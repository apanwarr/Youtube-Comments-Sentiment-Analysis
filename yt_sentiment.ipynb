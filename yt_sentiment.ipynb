{
 "cells": [
  {
   "cell_type": "markdown",
   "id": "65908d56",
   "metadata": {},
   "source": [
    "# **🔥 Build a YouTube Comments Sentiment Analyzer with HuggingFace model**"
   ]
  },
  {
   "cell_type": "markdown",
   "id": "77fc1171",
   "metadata": {},
   "source": [
    "# **📚 Importing Libraries**"
   ]
  },
  {
   "cell_type": "code",
   "execution_count": null,
   "id": "6eae3927",
   "metadata": {},
   "outputs": [],
   "source": [
    "from selenium import webdriver\n",
    "from selenium.webdriver.common.by import By\n",
    "from selenium.webdriver.chrome.service import Service\n",
    "from webdriver_manager.chrome import ChromeDriverManager\n",
    "import pandas as pd\n",
    "import plotly.express as px\n",
    "import time"
   ]
  },
  {
   "cell_type": "markdown",
   "id": "669cf467",
   "metadata": {},
   "source": [
    "# 📝 **Scraping Comments of Video 🎥** "
   ]
  },
  {
   "cell_type": "code",
   "execution_count": null,
   "id": "ced2a006",
   "metadata": {},
   "outputs": [],
   "source": [
    "def get_youtube_comments(video_url, max_comments=10):\n",
    "    # Setup the driver\n",
    "    options = webdriver.ChromeOptions()\n",
    "    options.add_argument(\"--headless\")  # Run headless (no window)\n",
    "    options.add_argument(\"--disable-gpu\")\n",
    "    driver = webdriver.Chrome(service=Service(ChromeDriverManager().install()), options=options)\n",
    "\n",
    "    print(\"Opening video...\")\n",
    "    driver.get(video_url)\n",
    "    time.sleep(5)\n",
    "\n",
    "    # Scroll to load comments\n",
    "    last_height = driver.execute_script(\"return document.documentElement.scrollHeight\")\n",
    "    while True:\n",
    "        driver.execute_script(\"window.scrollTo(0, document.documentElement.scrollHeight);\")\n",
    "        time.sleep(3)\n",
    "        new_height = driver.execute_script(\"return document.documentElement.scrollHeight\")\n",
    "        if new_height == last_height or len(driver.find_elements(By.XPATH, '//*[@id=\"content-text\"]')) >= max_comments:\n",
    "            break\n",
    "        last_height = new_height\n",
    "\n",
    "    print(\"Extracting comments...\")\n",
    "    comments_elements = driver.find_elements(By.XPATH, '//*[@id=\"content-text\"]')\n",
    "    comments = [elem.text for elem in comments_elements[:max_comments]]\n",
    "\n",
    "    driver.quit()\n",
    "    return comments\n",
    "\n",
    "# Usage\n",
    "video_url = input(\"Enter YouTube video URL: \")\n",
    "comments = get_youtube_comments(video_url, max_comments=1000)\n",
    "print(f\"Extracted {len(comments)} comments:\\n\")\n",
    "for i, c in enumerate(comments, 1):\n",
    "    print(f\"{i}. {c}\\n\")"
   ]
  },
  {
   "cell_type": "markdown",
   "id": "4be71047",
   "metadata": {},
   "source": [
    "# 🛠️ **Converting Comments into Pandas DataFrame** "
   ]
  },
  {
   "cell_type": "code",
   "execution_count": null,
   "id": "5286fd97",
   "metadata": {},
   "outputs": [],
   "source": [
    "df = pd.DataFrame({'Comment': comments})\n",
    "df.head()"
   ]
  },
  {
   "cell_type": "markdown",
   "id": "d11708a5",
   "metadata": {},
   "source": [
    "# **🤗 HuggingFace Model Integration 🤖** "
   ]
  },
  {
   "cell_type": "code",
   "execution_count": null,
   "id": "25300d96",
   "metadata": {},
   "outputs": [],
   "source": [
    "from transformers import pipeline\n",
    "\n",
    "pipe = pipeline(\"text-classification\", model=\"distilbert-base-uncased-finetuned-sst-2-english\")\n",
    "result = pipe(comments)\n",
    "print(result)\n"
   ]
  },
  {
   "cell_type": "markdown",
   "id": "a00399cd",
   "metadata": {},
   "source": [
    "# **📊 Plotting the Results 🎨** "
   ]
  },
  {
   "cell_type": "code",
   "execution_count": null,
   "id": "9cb0158f",
   "metadata": {},
   "outputs": [],
   "source": [
    "df = pd.DataFrame({\n",
    "    'Comment': comments,\n",
    "    'Label': [res['label'] for res in result],\n",
    "    'Score': [res['score'] for res in result]\n",
    "})\n",
    "\n",
    "# Save DataFrame to CSV (optional)\n",
    "# df.to_csv('youtube_comments_sentiment.csv', index=False)\n",
    "\n",
    "# Plot sentiment distribution as a pie chart using Plotly\n",
    "sentiment_counts = df['Label'].value_counts()\n",
    "\n",
    "fig = px.pie(\n",
    "    names=sentiment_counts.index,\n",
    "    values=sentiment_counts.values,\n",
    "    color=sentiment_counts.index,\n",
    "    color_discrete_map={'POSITIVE': 'lime', 'NEGATIVE': 'red'}, \n",
    "    title=\"YouTube Comments Sentiment Distribution\"\n",
    ")\n",
    "\n",
    "fig.update_layout(\n",
    "    template=\"plotly_dark\",\n",
    "    paper_bgcolor='black',\n",
    "    plot_bgcolor='black',\n",
    "    title_font=dict(size=20, color='white'),\n",
    "    legend=dict(font=dict(color='white'))\n",
    ")\n",
    "\n",
    "fig.show()\n"
   ]
  }
 ],
 "metadata": {
  "kernelspec": {
   "display_name": "yt-sentiment",
   "language": "python",
   "name": "python3"
  },
  "language_info": {
   "codemirror_mode": {
    "name": "ipython",
    "version": 3
   },
   "file_extension": ".py",
   "mimetype": "text/x-python",
   "name": "python",
   "nbconvert_exporter": "python",
   "pygments_lexer": "ipython3",
   "version": "3.10.16"
  }
 },
 "nbformat": 4,
 "nbformat_minor": 5
}
